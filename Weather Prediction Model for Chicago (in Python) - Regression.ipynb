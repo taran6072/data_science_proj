{
 "cells": [
  {
   "cell_type": "code",
   "execution_count": null,
   "id": "81ad3edd",
   "metadata": {},
   "outputs": [],
   "source": [
    "# # We will be building a model for predicitng the weather cconditions in Chicago,U.S. For this project, the data has taken from \n",
    "# National Centers for Environmental information. "
   ]
  },
  {
   "cell_type": "code",
   "execution_count": 2,
   "id": "5aa752a4",
   "metadata": {},
   "outputs": [],
   "source": [
    "import pandas as pd\n",
    "import numpy as np "
   ]
  },
  {
   "cell_type": "code",
   "execution_count": 3,
   "id": "96c4461a",
   "metadata": {},
   "outputs": [],
   "source": [
    "weather = pd.read_csv(\"C:/Users/Tushar Chandel/Downloads/3352683.csv\", index_col='DATE')"
   ]
  },
  {
   "cell_type": "code",
   "execution_count": 4,
   "id": "b47926d1",
   "metadata": {},
   "outputs": [
    {
     "data": {
      "text/html": [
       "<div>\n",
       "<style scoped>\n",
       "    .dataframe tbody tr th:only-of-type {\n",
       "        vertical-align: middle;\n",
       "    }\n",
       "\n",
       "    .dataframe tbody tr th {\n",
       "        vertical-align: top;\n",
       "    }\n",
       "\n",
       "    .dataframe thead th {\n",
       "        text-align: right;\n",
       "    }\n",
       "</style>\n",
       "<table border=\"1\" class=\"dataframe\">\n",
       "  <thead>\n",
       "    <tr style=\"text-align: right;\">\n",
       "      <th></th>\n",
       "      <th>STATION</th>\n",
       "      <th>NAME</th>\n",
       "      <th>ACMH</th>\n",
       "      <th>ACSH</th>\n",
       "      <th>AWND</th>\n",
       "      <th>FMTM</th>\n",
       "      <th>PGTM</th>\n",
       "      <th>PRCP</th>\n",
       "      <th>PSUN</th>\n",
       "      <th>SNOW</th>\n",
       "      <th>...</th>\n",
       "      <th>WT14</th>\n",
       "      <th>WT15</th>\n",
       "      <th>WT16</th>\n",
       "      <th>WT17</th>\n",
       "      <th>WT18</th>\n",
       "      <th>WT19</th>\n",
       "      <th>WT21</th>\n",
       "      <th>WT22</th>\n",
       "      <th>WV03</th>\n",
       "      <th>WV20</th>\n",
       "    </tr>\n",
       "    <tr>\n",
       "      <th>DATE</th>\n",
       "      <th></th>\n",
       "      <th></th>\n",
       "      <th></th>\n",
       "      <th></th>\n",
       "      <th></th>\n",
       "      <th></th>\n",
       "      <th></th>\n",
       "      <th></th>\n",
       "      <th></th>\n",
       "      <th></th>\n",
       "      <th></th>\n",
       "      <th></th>\n",
       "      <th></th>\n",
       "      <th></th>\n",
       "      <th></th>\n",
       "      <th></th>\n",
       "      <th></th>\n",
       "      <th></th>\n",
       "      <th></th>\n",
       "      <th></th>\n",
       "      <th></th>\n",
       "    </tr>\n",
       "  </thead>\n",
       "  <tbody>\n",
       "    <tr>\n",
       "      <th>1960-01-01</th>\n",
       "      <td>USW00094846</td>\n",
       "      <td>CHICAGO OHARE INTERNATIONAL AIRPORT, IL US</td>\n",
       "      <td>NaN</td>\n",
       "      <td>NaN</td>\n",
       "      <td>NaN</td>\n",
       "      <td>NaN</td>\n",
       "      <td>NaN</td>\n",
       "      <td>0.0</td>\n",
       "      <td>NaN</td>\n",
       "      <td>0.0</td>\n",
       "      <td>...</td>\n",
       "      <td>NaN</td>\n",
       "      <td>NaN</td>\n",
       "      <td>NaN</td>\n",
       "      <td>NaN</td>\n",
       "      <td>NaN</td>\n",
       "      <td>NaN</td>\n",
       "      <td>NaN</td>\n",
       "      <td>NaN</td>\n",
       "      <td>NaN</td>\n",
       "      <td>NaN</td>\n",
       "    </tr>\n",
       "    <tr>\n",
       "      <th>1960-01-02</th>\n",
       "      <td>USW00094846</td>\n",
       "      <td>CHICAGO OHARE INTERNATIONAL AIRPORT, IL US</td>\n",
       "      <td>NaN</td>\n",
       "      <td>NaN</td>\n",
       "      <td>NaN</td>\n",
       "      <td>NaN</td>\n",
       "      <td>NaN</td>\n",
       "      <td>0.0</td>\n",
       "      <td>NaN</td>\n",
       "      <td>0.0</td>\n",
       "      <td>...</td>\n",
       "      <td>1.0</td>\n",
       "      <td>NaN</td>\n",
       "      <td>1.0</td>\n",
       "      <td>NaN</td>\n",
       "      <td>1.0</td>\n",
       "      <td>NaN</td>\n",
       "      <td>NaN</td>\n",
       "      <td>NaN</td>\n",
       "      <td>NaN</td>\n",
       "      <td>NaN</td>\n",
       "    </tr>\n",
       "    <tr>\n",
       "      <th>1960-01-03</th>\n",
       "      <td>USW00094846</td>\n",
       "      <td>CHICAGO OHARE INTERNATIONAL AIRPORT, IL US</td>\n",
       "      <td>NaN</td>\n",
       "      <td>NaN</td>\n",
       "      <td>NaN</td>\n",
       "      <td>NaN</td>\n",
       "      <td>NaN</td>\n",
       "      <td>0.0</td>\n",
       "      <td>NaN</td>\n",
       "      <td>0.0</td>\n",
       "      <td>...</td>\n",
       "      <td>NaN</td>\n",
       "      <td>NaN</td>\n",
       "      <td>NaN</td>\n",
       "      <td>NaN</td>\n",
       "      <td>1.0</td>\n",
       "      <td>NaN</td>\n",
       "      <td>NaN</td>\n",
       "      <td>NaN</td>\n",
       "      <td>NaN</td>\n",
       "      <td>NaN</td>\n",
       "    </tr>\n",
       "    <tr>\n",
       "      <th>1960-01-04</th>\n",
       "      <td>USW00094846</td>\n",
       "      <td>CHICAGO OHARE INTERNATIONAL AIRPORT, IL US</td>\n",
       "      <td>NaN</td>\n",
       "      <td>NaN</td>\n",
       "      <td>NaN</td>\n",
       "      <td>NaN</td>\n",
       "      <td>NaN</td>\n",
       "      <td>0.0</td>\n",
       "      <td>NaN</td>\n",
       "      <td>0.0</td>\n",
       "      <td>...</td>\n",
       "      <td>NaN</td>\n",
       "      <td>NaN</td>\n",
       "      <td>NaN</td>\n",
       "      <td>NaN</td>\n",
       "      <td>NaN</td>\n",
       "      <td>NaN</td>\n",
       "      <td>NaN</td>\n",
       "      <td>NaN</td>\n",
       "      <td>NaN</td>\n",
       "      <td>NaN</td>\n",
       "    </tr>\n",
       "    <tr>\n",
       "      <th>1960-01-05</th>\n",
       "      <td>USW00094846</td>\n",
       "      <td>CHICAGO OHARE INTERNATIONAL AIRPORT, IL US</td>\n",
       "      <td>NaN</td>\n",
       "      <td>NaN</td>\n",
       "      <td>NaN</td>\n",
       "      <td>NaN</td>\n",
       "      <td>NaN</td>\n",
       "      <td>0.0</td>\n",
       "      <td>NaN</td>\n",
       "      <td>0.0</td>\n",
       "      <td>...</td>\n",
       "      <td>NaN</td>\n",
       "      <td>NaN</td>\n",
       "      <td>NaN</td>\n",
       "      <td>NaN</td>\n",
       "      <td>1.0</td>\n",
       "      <td>NaN</td>\n",
       "      <td>NaN</td>\n",
       "      <td>NaN</td>\n",
       "      <td>NaN</td>\n",
       "      <td>NaN</td>\n",
       "    </tr>\n",
       "  </tbody>\n",
       "</table>\n",
       "<p>5 rows × 48 columns</p>\n",
       "</div>"
      ],
      "text/plain": [
       "                STATION                                        NAME  ACMH  \\\n",
       "DATE                                                                        \n",
       "1960-01-01  USW00094846  CHICAGO OHARE INTERNATIONAL AIRPORT, IL US   NaN   \n",
       "1960-01-02  USW00094846  CHICAGO OHARE INTERNATIONAL AIRPORT, IL US   NaN   \n",
       "1960-01-03  USW00094846  CHICAGO OHARE INTERNATIONAL AIRPORT, IL US   NaN   \n",
       "1960-01-04  USW00094846  CHICAGO OHARE INTERNATIONAL AIRPORT, IL US   NaN   \n",
       "1960-01-05  USW00094846  CHICAGO OHARE INTERNATIONAL AIRPORT, IL US   NaN   \n",
       "\n",
       "            ACSH  AWND  FMTM  PGTM  PRCP  PSUN  SNOW  ...  WT14  WT15  WT16  \\\n",
       "DATE                                                  ...                     \n",
       "1960-01-01   NaN   NaN   NaN   NaN   0.0   NaN   0.0  ...   NaN   NaN   NaN   \n",
       "1960-01-02   NaN   NaN   NaN   NaN   0.0   NaN   0.0  ...   1.0   NaN   1.0   \n",
       "1960-01-03   NaN   NaN   NaN   NaN   0.0   NaN   0.0  ...   NaN   NaN   NaN   \n",
       "1960-01-04   NaN   NaN   NaN   NaN   0.0   NaN   0.0  ...   NaN   NaN   NaN   \n",
       "1960-01-05   NaN   NaN   NaN   NaN   0.0   NaN   0.0  ...   NaN   NaN   NaN   \n",
       "\n",
       "            WT17  WT18  WT19  WT21  WT22  WV03  WV20  \n",
       "DATE                                                  \n",
       "1960-01-01   NaN   NaN   NaN   NaN   NaN   NaN   NaN  \n",
       "1960-01-02   NaN   1.0   NaN   NaN   NaN   NaN   NaN  \n",
       "1960-01-03   NaN   1.0   NaN   NaN   NaN   NaN   NaN  \n",
       "1960-01-04   NaN   NaN   NaN   NaN   NaN   NaN   NaN  \n",
       "1960-01-05   NaN   1.0   NaN   NaN   NaN   NaN   NaN  \n",
       "\n",
       "[5 rows x 48 columns]"
      ]
     },
     "execution_count": 4,
     "metadata": {},
     "output_type": "execute_result"
    }
   ],
   "source": [
    "weather.head()"
   ]
  },
  {
   "cell_type": "code",
   "execution_count": 6,
   "id": "3ee45aac",
   "metadata": {},
   "outputs": [
    {
     "data": {
      "text/plain": [
       "(23163, 48)"
      ]
     },
     "execution_count": 6,
     "metadata": {},
     "output_type": "execute_result"
    }
   ],
   "source": [
    "weather.shape"
   ]
  },
  {
   "cell_type": "markdown",
   "id": "2650b1a0",
   "metadata": {},
   "source": [
    "# Data Cleaning & Preprocessing "
   ]
  },
  {
   "cell_type": "code",
   "execution_count": 10,
   "id": "67f12354",
   "metadata": {},
   "outputs": [
    {
     "data": {
      "text/plain": [
       "STATION    0.000000\n",
       "NAME       0.000000\n",
       "ACMH       0.509994\n",
       "ACSH       0.509951\n",
       "AWND       0.378794\n",
       "FMTM       0.563183\n",
       "PGTM       0.269525\n",
       "PRCP       0.000043\n",
       "PSUN       0.944783\n",
       "SNOW       0.008030\n",
       "SNWD       0.016233\n",
       "TAVG       0.724172\n",
       "TMAX       0.000000\n",
       "TMIN       0.000000\n",
       "TSUN       0.722014\n",
       "WDF1       0.557268\n",
       "WDF2       0.569313\n",
       "WDF5       0.570392\n",
       "WDFG       0.481285\n",
       "WDFM       0.999741\n",
       "WESD       0.697535\n",
       "WSF1       0.557182\n",
       "WSF2       0.569313\n",
       "WSF5       0.570392\n",
       "WSFG       0.481026\n",
       "WSFM       0.998791\n",
       "WT01       0.618227\n",
       "WT02       0.969736\n",
       "WT03       0.894098\n",
       "WT04       0.986142\n",
       "WT05       0.980961\n",
       "WT06       0.982861\n",
       "WT07       0.995683\n",
       "WT08       0.692311\n",
       "WT09       0.986832\n",
       "WT10       0.999957\n",
       "WT11       0.996071\n",
       "WT13       0.893321\n",
       "WT14       0.953978\n",
       "WT15       0.996374\n",
       "WT16       0.664422\n",
       "WT17       0.996676\n",
       "WT18       0.855545\n",
       "WT19       0.999568\n",
       "WT21       0.998618\n",
       "WT22       0.995553\n",
       "WV03       0.996978\n",
       "WV20       0.999957\n",
       "dtype: float64"
      ]
     },
     "execution_count": 10,
     "metadata": {},
     "output_type": "execute_result"
    }
   ],
   "source": [
    "#Finding the null values in each columns of the dataframe \n",
    "weather.apply(pd.isnull).sum()/weather.shape[0]"
   ]
  },
  {
   "cell_type": "code",
   "execution_count": 196,
   "id": "9b63574a",
   "metadata": {},
   "outputs": [
    {
     "data": {
      "text/plain": [
       "ACMH      float64\n",
       "ACSH      float64\n",
       "AWND      float64\n",
       "FMTM      float64\n",
       "PGTM      float64\n",
       "PRCP      float64\n",
       "PSUN      float64\n",
       "SNOW      float64\n",
       "SNWD      float64\n",
       "TAVG      float64\n",
       "TMAX        int64\n",
       "TMIN        int64\n",
       "TSUN      float64\n",
       "WDF1      float64\n",
       "WDF2      float64\n",
       "WDF5      float64\n",
       "WDFG      float64\n",
       "WDFM      float64\n",
       "WESD      float64\n",
       "WSF1      float64\n",
       "WSF2      float64\n",
       "WSF5      float64\n",
       "WSFG      float64\n",
       "WSFM      float64\n",
       "WT01      float64\n",
       "WT02      float64\n",
       "WT03      float64\n",
       "WT04      float64\n",
       "WT05      float64\n",
       "WT06      float64\n",
       "WT07      float64\n",
       "WT08      float64\n",
       "WT09      float64\n",
       "WT10      float64\n",
       "WT11      float64\n",
       "WT13      float64\n",
       "WT14      float64\n",
       "WT15      float64\n",
       "WT16      float64\n",
       "WT17      float64\n",
       "WT18      float64\n",
       "WT19      float64\n",
       "WT21      float64\n",
       "WT22      float64\n",
       "WV03      float64\n",
       "WV20      float64\n",
       "target    float64\n",
       "dtype: object"
      ]
     },
     "execution_count": 196,
     "metadata": {},
     "output_type": "execute_result"
    }
   ],
   "source": [
    "weather.dtypes"
   ]
  },
  {
   "cell_type": "code",
   "execution_count": 193,
   "id": "6876ba6a",
   "metadata": {},
   "outputs": [],
   "source": [
    "weather = weather.drop(['NAME', 'STATION' ], axis =1)"
   ]
  },
  {
   "cell_type": "code",
   "execution_count": 195,
   "id": "eea7aeef",
   "metadata": {},
   "outputs": [],
   "source": [
    "weather['target'] = main_weather.shift(-1)['temp_max']"
   ]
  },
  {
   "cell_type": "code",
   "execution_count": 209,
   "id": "66cc4183",
   "metadata": {},
   "outputs": [],
   "source": [
    "# Replacing all null values with 0 \n",
    "weather = weather.replace([np.nan, -np.nan], 0)"
   ]
  },
  {
   "cell_type": "code",
   "execution_count": 210,
   "id": "db6e0ffb",
   "metadata": {},
   "outputs": [
    {
     "data": {
      "text/plain": [
       "ACMH      0\n",
       "ACSH      0\n",
       "AWND      0\n",
       "FMTM      0\n",
       "PGTM      0\n",
       "PRCP      0\n",
       "PSUN      0\n",
       "SNOW      0\n",
       "SNWD      0\n",
       "TAVG      0\n",
       "TMAX      0\n",
       "TMIN      0\n",
       "TSUN      0\n",
       "WDF1      0\n",
       "WDF2      0\n",
       "WDF5      0\n",
       "WDFG      0\n",
       "WDFM      0\n",
       "WESD      0\n",
       "WSF1      0\n",
       "WSF2      0\n",
       "WSF5      0\n",
       "WSFG      0\n",
       "WSFM      0\n",
       "WT01      0\n",
       "WT02      0\n",
       "WT03      0\n",
       "WT04      0\n",
       "WT05      0\n",
       "WT06      0\n",
       "WT07      0\n",
       "WT08      0\n",
       "WT09      0\n",
       "WT10      0\n",
       "WT11      0\n",
       "WT13      0\n",
       "WT14      0\n",
       "WT15      0\n",
       "WT16      0\n",
       "WT17      0\n",
       "WT18      0\n",
       "WT19      0\n",
       "WT21      0\n",
       "WT22      0\n",
       "WV03      0\n",
       "WV20      0\n",
       "target    0\n",
       "dtype: int64"
      ]
     },
     "execution_count": 210,
     "metadata": {},
     "output_type": "execute_result"
    }
   ],
   "source": [
    "weather.apply(pd.isnull).sum()"
   ]
  },
  {
   "cell_type": "code",
   "execution_count": 199,
   "id": "565296c4",
   "metadata": {},
   "outputs": [],
   "source": [
    "from sklearn.feature_selection import mutual_info_regression"
   ]
  },
  {
   "cell_type": "code",
   "execution_count": 211,
   "id": "a9573693",
   "metadata": {},
   "outputs": [],
   "source": [
    "#Mutual information: There are many features presented in the dataset, so we will be using mutual information to construct a\n",
    "# ranking with a feature utility metric\n",
    "\n",
    "def calculate_ml_scores(kf):\n",
    "    X = kf.copy()\n",
    "    y = X[\"target\"]\n",
    "    \n",
    "    X.drop(\"target\", axis=1, inplace = True)\n",
    "    \n",
    "    \n",
    "    for colname in X.select_dtypes(\"object\"):\n",
    "        X[colname], _ = X[colname].factorize()\n",
    "    \n",
    "    \n",
    "\n",
    "    discrete_features = X.dtypes == int\n",
    "    \n",
    " \n",
    "    \n",
    "    mi_scores = mutual_info_regression(X, y)\n",
    "    mi_scores = pd.Series(mi_scores, name=\"MI Scores\", index=X.columns)\n",
    "    mi_scores = mi_scores.sort_values(ascending=False)\n",
    "    return X, y, mi_scores"
   ]
  },
  {
   "cell_type": "code",
   "execution_count": 212,
   "id": "b3fbe6be",
   "metadata": {},
   "outputs": [],
   "source": [
    "X,y, mi_scores = calculate_ml_scores(kf =weather)"
   ]
  },
  {
   "cell_type": "code",
   "execution_count": 213,
   "id": "b53a66aa",
   "metadata": {},
   "outputs": [
    {
     "data": {
      "text/plain": [
       "TMAX    0.921946\n",
       "TMIN    0.785255\n",
       "TAVG    0.224215\n",
       "WT18    0.171041\n",
       "SNWD    0.158970\n",
       "SNOW    0.110007\n",
       "WESD    0.074576\n",
       "AWND    0.044519\n",
       "WDFG    0.033982\n",
       "ACSH    0.031625\n",
       "PGTM    0.031521\n",
       "WDF1    0.030784\n",
       "TSUN    0.030211\n",
       "WDF5    0.030133\n",
       "WDF2    0.029844\n",
       "WT03    0.029098\n",
       "WT09    0.024908\n",
       "ACMH    0.024882\n",
       "FMTM    0.024093\n",
       "WSF1    0.019370\n",
       "WT14    0.016454\n",
       "PRCP    0.015743\n",
       "WT04    0.015720\n",
       "WSF5    0.015613\n",
       "WSFG    0.015267\n",
       "WT16    0.015156\n",
       "WT01    0.014668\n",
       "WSF2    0.012141\n",
       "WT06    0.011432\n",
       "WT08    0.009590\n",
       "WT07    0.009385\n",
       "WT11    0.009165\n",
       "WSFM    0.008881\n",
       "WT22    0.008056\n",
       "WT05    0.007744\n",
       "WV20    0.006798\n",
       "PSUN    0.006432\n",
       "WV03    0.005695\n",
       "WT15    0.005401\n",
       "WT13    0.004875\n",
       "WT02    0.002445\n",
       "WDFM    0.001504\n",
       "WT10    0.000000\n",
       "WT17    0.000000\n",
       "WT19    0.000000\n",
       "WT21    0.000000\n",
       "Name: MI Scores, dtype: float64"
      ]
     },
     "execution_count": 213,
     "metadata": {},
     "output_type": "execute_result"
    }
   ],
   "source": [
    "mi_scores"
   ]
  },
  {
   "cell_type": "code",
   "execution_count": 12,
   "id": "6b9115c6",
   "metadata": {},
   "outputs": [],
   "source": [
    "# Selecting the main features of the data set \n",
    "main_weather = weather[['PRCP', 'SNOW', 'SNWD', 'TMAX', 'TMIN']].copy()"
   ]
  },
  {
   "cell_type": "code",
   "execution_count": 14,
   "id": "5b6d6a3f",
   "metadata": {},
   "outputs": [],
   "source": [
    "# Renaming the columns \n",
    "main_weather.columns = ['precip', 'snow', 'snow_depth', 'temp_max', 'temp_min' ]"
   ]
  },
  {
   "cell_type": "code",
   "execution_count": 15,
   "id": "6429b7b0",
   "metadata": {
    "scrolled": true
   },
   "outputs": [
    {
     "data": {
      "text/html": [
       "<div>\n",
       "<style scoped>\n",
       "    .dataframe tbody tr th:only-of-type {\n",
       "        vertical-align: middle;\n",
       "    }\n",
       "\n",
       "    .dataframe tbody tr th {\n",
       "        vertical-align: top;\n",
       "    }\n",
       "\n",
       "    .dataframe thead th {\n",
       "        text-align: right;\n",
       "    }\n",
       "</style>\n",
       "<table border=\"1\" class=\"dataframe\">\n",
       "  <thead>\n",
       "    <tr style=\"text-align: right;\">\n",
       "      <th></th>\n",
       "      <th>precip</th>\n",
       "      <th>snow</th>\n",
       "      <th>snow_depth</th>\n",
       "      <th>temp_max</th>\n",
       "      <th>temp_min</th>\n",
       "    </tr>\n",
       "    <tr>\n",
       "      <th>DATE</th>\n",
       "      <th></th>\n",
       "      <th></th>\n",
       "      <th></th>\n",
       "      <th></th>\n",
       "      <th></th>\n",
       "    </tr>\n",
       "  </thead>\n",
       "  <tbody>\n",
       "    <tr>\n",
       "      <th>1960-01-01</th>\n",
       "      <td>0.00</td>\n",
       "      <td>0.0</td>\n",
       "      <td>0.0</td>\n",
       "      <td>35</td>\n",
       "      <td>27</td>\n",
       "    </tr>\n",
       "    <tr>\n",
       "      <th>1960-01-02</th>\n",
       "      <td>0.00</td>\n",
       "      <td>0.0</td>\n",
       "      <td>0.0</td>\n",
       "      <td>43</td>\n",
       "      <td>31</td>\n",
       "    </tr>\n",
       "    <tr>\n",
       "      <th>1960-01-03</th>\n",
       "      <td>0.00</td>\n",
       "      <td>0.0</td>\n",
       "      <td>0.0</td>\n",
       "      <td>31</td>\n",
       "      <td>13</td>\n",
       "    </tr>\n",
       "    <tr>\n",
       "      <th>1960-01-04</th>\n",
       "      <td>0.00</td>\n",
       "      <td>0.0</td>\n",
       "      <td>0.0</td>\n",
       "      <td>21</td>\n",
       "      <td>8</td>\n",
       "    </tr>\n",
       "    <tr>\n",
       "      <th>1960-01-05</th>\n",
       "      <td>0.00</td>\n",
       "      <td>0.0</td>\n",
       "      <td>0.0</td>\n",
       "      <td>20</td>\n",
       "      <td>9</td>\n",
       "    </tr>\n",
       "    <tr>\n",
       "      <th>...</th>\n",
       "      <td>...</td>\n",
       "      <td>...</td>\n",
       "      <td>...</td>\n",
       "      <td>...</td>\n",
       "      <td>...</td>\n",
       "    </tr>\n",
       "    <tr>\n",
       "      <th>2023-05-28</th>\n",
       "      <td>0.00</td>\n",
       "      <td>0.0</td>\n",
       "      <td>0.0</td>\n",
       "      <td>80</td>\n",
       "      <td>53</td>\n",
       "    </tr>\n",
       "    <tr>\n",
       "      <th>2023-05-29</th>\n",
       "      <td>0.00</td>\n",
       "      <td>0.0</td>\n",
       "      <td>0.0</td>\n",
       "      <td>86</td>\n",
       "      <td>53</td>\n",
       "    </tr>\n",
       "    <tr>\n",
       "      <th>2023-05-30</th>\n",
       "      <td>0.00</td>\n",
       "      <td>0.0</td>\n",
       "      <td>0.0</td>\n",
       "      <td>91</td>\n",
       "      <td>59</td>\n",
       "    </tr>\n",
       "    <tr>\n",
       "      <th>2023-05-31</th>\n",
       "      <td>0.29</td>\n",
       "      <td>0.0</td>\n",
       "      <td>0.0</td>\n",
       "      <td>91</td>\n",
       "      <td>69</td>\n",
       "    </tr>\n",
       "    <tr>\n",
       "      <th>2023-06-01</th>\n",
       "      <td>0.88</td>\n",
       "      <td>0.0</td>\n",
       "      <td>0.0</td>\n",
       "      <td>91</td>\n",
       "      <td>68</td>\n",
       "    </tr>\n",
       "  </tbody>\n",
       "</table>\n",
       "<p>23163 rows × 5 columns</p>\n",
       "</div>"
      ],
      "text/plain": [
       "            precip  snow  snow_depth  temp_max  temp_min\n",
       "DATE                                                    \n",
       "1960-01-01    0.00   0.0         0.0        35        27\n",
       "1960-01-02    0.00   0.0         0.0        43        31\n",
       "1960-01-03    0.00   0.0         0.0        31        13\n",
       "1960-01-04    0.00   0.0         0.0        21         8\n",
       "1960-01-05    0.00   0.0         0.0        20         9\n",
       "...            ...   ...         ...       ...       ...\n",
       "2023-05-28    0.00   0.0         0.0        80        53\n",
       "2023-05-29    0.00   0.0         0.0        86        53\n",
       "2023-05-30    0.00   0.0         0.0        91        59\n",
       "2023-05-31    0.29   0.0         0.0        91        69\n",
       "2023-06-01    0.88   0.0         0.0        91        68\n",
       "\n",
       "[23163 rows x 5 columns]"
      ]
     },
     "execution_count": 15,
     "metadata": {},
     "output_type": "execute_result"
    }
   ],
   "source": [
    "main_weather"
   ]
  },
  {
   "cell_type": "code",
   "execution_count": 32,
   "id": "b5f759d2",
   "metadata": {},
   "outputs": [
    {
     "data": {
      "text/plain": [
       "precip        0.000043\n",
       "snow          0.000000\n",
       "snow_depth    0.000000\n",
       "temp_max      0.000000\n",
       "temp_min      0.000000\n",
       "dtype: float64"
      ]
     },
     "execution_count": 32,
     "metadata": {},
     "output_type": "execute_result"
    }
   ],
   "source": [
    "main_weather.apply(pd.isnull).sum()/weather.shape[0]"
   ]
  },
  {
   "cell_type": "code",
   "execution_count": 36,
   "id": "664f126a",
   "metadata": {},
   "outputs": [
    {
     "data": {
      "text/plain": [
       "precip        0.0\n",
       "snow          0.0\n",
       "snow_depth    0.0\n",
       "temp_max      0.0\n",
       "temp_min      0.0\n",
       "dtype: float64"
      ]
     },
     "execution_count": 36,
     "metadata": {},
     "output_type": "execute_result"
    }
   ],
   "source": [
    "#Checking for any null values \n",
    "main_weather.apply(pd.isnull).sum()/weather.shape[0]"
   ]
  },
  {
   "cell_type": "code",
   "execution_count": 37,
   "id": "2c128780",
   "metadata": {},
   "outputs": [
    {
     "data": {
      "text/plain": [
       "precip        float64\n",
       "snow          float64\n",
       "snow_depth    float64\n",
       "temp_max        int64\n",
       "temp_min        int64\n",
       "dtype: object"
      ]
     },
     "execution_count": 37,
     "metadata": {},
     "output_type": "execute_result"
    }
   ],
   "source": [
    "#Checking the datatypes of our variables \n",
    "main_weather.dtypes"
   ]
  },
  {
   "cell_type": "code",
   "execution_count": 214,
   "id": "95f320d1",
   "metadata": {},
   "outputs": [
    {
     "data": {
      "text/plain": [
       "DatetimeIndex(['1960-01-31', '1960-02-01', '1960-02-02', '1960-02-03',\n",
       "               '1960-02-04', '1960-02-05', '1960-02-06', '1960-02-07',\n",
       "               '1960-02-08', '1960-02-09',\n",
       "               ...\n",
       "               '2023-05-21', '2023-05-22', '2023-05-23', '2023-05-24',\n",
       "               '2023-05-25', '2023-05-26', '2023-05-27', '2023-05-28',\n",
       "               '2023-05-29', '2023-05-30'],\n",
       "              dtype='datetime64[ns]', name='DATE', length=23131, freq=None)"
      ]
     },
     "execution_count": 214,
     "metadata": {},
     "output_type": "execute_result"
    }
   ],
   "source": [
    "main_weather.index"
   ]
  },
  {
   "cell_type": "code",
   "execution_count": 47,
   "id": "1a0cdbfb",
   "metadata": {},
   "outputs": [],
   "source": [
    "# Converting the object data type to datetime object.\n",
    "main_weather.index = pd.to_datetime(main_weather.index)"
   ]
  },
  {
   "cell_type": "code",
   "execution_count": 49,
   "id": "afd5ca68",
   "metadata": {},
   "outputs": [
    {
     "data": {
      "text/plain": [
       "Int64Index([1960, 1960, 1960, 1960, 1960, 1960, 1960, 1960, 1960, 1960,\n",
       "            ...\n",
       "            2023, 2023, 2023, 2023, 2023, 2023, 2023, 2023, 2023, 2023],\n",
       "           dtype='int64', name='DATE', length=23163)"
      ]
     },
     "execution_count": 49,
     "metadata": {},
     "output_type": "execute_result"
    }
   ],
   "source": [
    "main_weather.index.year"
   ]
  },
  {
   "cell_type": "code",
   "execution_count": 40,
   "id": "276e0ffb",
   "metadata": {},
   "outputs": [
    {
     "data": {
      "text/plain": [
       "precip        0\n",
       "snow          0\n",
       "snow_depth    0\n",
       "temp_max      0\n",
       "temp_min      0\n",
       "dtype: int64"
      ]
     },
     "execution_count": 40,
     "metadata": {},
     "output_type": "execute_result"
    }
   ],
   "source": [
    "main_weather.apply(lambda x: (x==9999).sum())"
   ]
  },
  {
   "cell_type": "markdown",
   "id": "30b40b22",
   "metadata": {},
   "source": [
    "# Exploratory data analysis"
   ]
  },
  {
   "cell_type": "code",
   "execution_count": 41,
   "id": "dca90fc2",
   "metadata": {},
   "outputs": [
    {
     "data": {
      "text/plain": [
       "<Axes: xlabel='DATE'>"
      ]
     },
     "execution_count": 41,
     "metadata": {},
     "output_type": "execute_result"
    },
    {
     "data": {
      "image/png": "[encoded data removed]",
      "text/plain": [
       "<Figure size 640x480 with 1 Axes>"
      ]
     },
     "metadata": {},
     "output_type": "display_data"
    }
   ],
   "source": [
    "main_weather[['temp_max', 'temp_min']].plot()"
   ]
  },
  {
   "cell_type": "code",
   "execution_count": 50,
   "id": "c7b0217e",
   "metadata": {},
   "outputs": [
    {
     "data": {
      "text/plain": [
       "1960    366\n",
       "1961    365\n",
       "1962    365\n",
       "1963    365\n",
       "1964    366\n",
       "       ... \n",
       "2019    365\n",
       "2020    366\n",
       "2021    365\n",
       "2022    365\n",
       "2023    152\n",
       "Name: DATE, Length: 64, dtype: int64"
      ]
     },
     "execution_count": 50,
     "metadata": {},
     "output_type": "execute_result"
    }
   ],
   "source": [
    "main_weather.index.year.value_counts().sort_index()"
   ]
  },
  {
   "cell_type": "code",
   "execution_count": 51,
   "id": "c4b74e6d",
   "metadata": {},
   "outputs": [
    {
     "data": {
      "text/plain": [
       "<Axes: xlabel='DATE'>"
      ]
     },
     "execution_count": 51,
     "metadata": {},
     "output_type": "execute_result"
    },
    {
     "data": {
      "image/png": "[encoded data removed]",
      "text/plain": [
       "<Figure size 640x480 with 1 Axes>"
      ]
     },
     "metadata": {},
     "output_type": "display_data"
    }
   ],
   "source": [
    "main_weather['precip'].plot()"
   ]
  },
  {
   "cell_type": "code",
   "execution_count": 53,
   "id": "390f5e5c",
   "metadata": {},
   "outputs": [
    {
     "data": {
      "text/plain": [
       "DATE\n",
       "1960    28.20\n",
       "1961    36.78\n",
       "1962    21.77\n",
       "1963    25.27\n",
       "1964    29.73\n",
       "        ...  \n",
       "2019    49.54\n",
       "2020    39.22\n",
       "2021    30.15\n",
       "2022    31.99\n",
       "2023    13.84\n",
       "Name: precip, Length: 64, dtype: float64"
      ]
     },
     "execution_count": 53,
     "metadata": {},
     "output_type": "execute_result"
    }
   ],
   "source": [
    "main_weather.groupby(main_weather.index.year).sum()['precip']"
   ]
  },
  {
   "cell_type": "code",
   "execution_count": 54,
   "id": "6f51e621",
   "metadata": {},
   "outputs": [
    {
     "data": {
      "text/html": [
       "<div>\n",
       "<style scoped>\n",
       "    .dataframe tbody tr th:only-of-type {\n",
       "        vertical-align: middle;\n",
       "    }\n",
       "\n",
       "    .dataframe tbody tr th {\n",
       "        vertical-align: top;\n",
       "    }\n",
       "\n",
       "    .dataframe thead th {\n",
       "        text-align: right;\n",
       "    }\n",
       "</style>\n",
       "<table border=\"1\" class=\"dataframe\">\n",
       "  <thead>\n",
       "    <tr style=\"text-align: right;\">\n",
       "      <th></th>\n",
       "      <th>precip</th>\n",
       "      <th>snow</th>\n",
       "      <th>snow_depth</th>\n",
       "      <th>temp_max</th>\n",
       "      <th>temp_min</th>\n",
       "    </tr>\n",
       "    <tr>\n",
       "      <th>DATE</th>\n",
       "      <th></th>\n",
       "      <th></th>\n",
       "      <th></th>\n",
       "      <th></th>\n",
       "      <th></th>\n",
       "    </tr>\n",
       "  </thead>\n",
       "  <tbody>\n",
       "    <tr>\n",
       "      <th>1960-01-01</th>\n",
       "      <td>0.00</td>\n",
       "      <td>0.0</td>\n",
       "      <td>0.0</td>\n",
       "      <td>35</td>\n",
       "      <td>27</td>\n",
       "    </tr>\n",
       "    <tr>\n",
       "      <th>1960-01-02</th>\n",
       "      <td>0.00</td>\n",
       "      <td>0.0</td>\n",
       "      <td>0.0</td>\n",
       "      <td>43</td>\n",
       "      <td>31</td>\n",
       "    </tr>\n",
       "    <tr>\n",
       "      <th>1960-01-03</th>\n",
       "      <td>0.00</td>\n",
       "      <td>0.0</td>\n",
       "      <td>0.0</td>\n",
       "      <td>31</td>\n",
       "      <td>13</td>\n",
       "    </tr>\n",
       "    <tr>\n",
       "      <th>1960-01-04</th>\n",
       "      <td>0.00</td>\n",
       "      <td>0.0</td>\n",
       "      <td>0.0</td>\n",
       "      <td>21</td>\n",
       "      <td>8</td>\n",
       "    </tr>\n",
       "    <tr>\n",
       "      <th>1960-01-05</th>\n",
       "      <td>0.00</td>\n",
       "      <td>0.0</td>\n",
       "      <td>0.0</td>\n",
       "      <td>20</td>\n",
       "      <td>9</td>\n",
       "    </tr>\n",
       "    <tr>\n",
       "      <th>...</th>\n",
       "      <td>...</td>\n",
       "      <td>...</td>\n",
       "      <td>...</td>\n",
       "      <td>...</td>\n",
       "      <td>...</td>\n",
       "    </tr>\n",
       "    <tr>\n",
       "      <th>2023-05-28</th>\n",
       "      <td>0.00</td>\n",
       "      <td>0.0</td>\n",
       "      <td>0.0</td>\n",
       "      <td>80</td>\n",
       "      <td>53</td>\n",
       "    </tr>\n",
       "    <tr>\n",
       "      <th>2023-05-29</th>\n",
       "      <td>0.00</td>\n",
       "      <td>0.0</td>\n",
       "      <td>0.0</td>\n",
       "      <td>86</td>\n",
       "      <td>53</td>\n",
       "    </tr>\n",
       "    <tr>\n",
       "      <th>2023-05-30</th>\n",
       "      <td>0.00</td>\n",
       "      <td>0.0</td>\n",
       "      <td>0.0</td>\n",
       "      <td>91</td>\n",
       "      <td>59</td>\n",
       "    </tr>\n",
       "    <tr>\n",
       "      <th>2023-05-31</th>\n",
       "      <td>0.29</td>\n",
       "      <td>0.0</td>\n",
       "      <td>0.0</td>\n",
       "      <td>91</td>\n",
       "      <td>69</td>\n",
       "    </tr>\n",
       "    <tr>\n",
       "      <th>2023-06-01</th>\n",
       "      <td>0.88</td>\n",
       "      <td>0.0</td>\n",
       "      <td>0.0</td>\n",
       "      <td>91</td>\n",
       "      <td>68</td>\n",
       "    </tr>\n",
       "  </tbody>\n",
       "</table>\n",
       "<p>23163 rows × 5 columns</p>\n",
       "</div>"
      ],
      "text/plain": [
       "            precip  snow  snow_depth  temp_max  temp_min\n",
       "DATE                                                    \n",
       "1960-01-01    0.00   0.0         0.0        35        27\n",
       "1960-01-02    0.00   0.0         0.0        43        31\n",
       "1960-01-03    0.00   0.0         0.0        31        13\n",
       "1960-01-04    0.00   0.0         0.0        21         8\n",
       "1960-01-05    0.00   0.0         0.0        20         9\n",
       "...            ...   ...         ...       ...       ...\n",
       "2023-05-28    0.00   0.0         0.0        80        53\n",
       "2023-05-29    0.00   0.0         0.0        86        53\n",
       "2023-05-30    0.00   0.0         0.0        91        59\n",
       "2023-05-31    0.29   0.0         0.0        91        69\n",
       "2023-06-01    0.88   0.0         0.0        91        68\n",
       "\n",
       "[23163 rows x 5 columns]"
      ]
     },
     "execution_count": 54,
     "metadata": {},
     "output_type": "execute_result"
    }
   ],
   "source": [
    "main_weather"
   ]
  },
  {
   "cell_type": "markdown",
   "id": "de2756d4",
   "metadata": {},
   "source": [
    "# Model Training "
   ]
  },
  {
   "cell_type": "code",
   "execution_count": 55,
   "id": "645ad16c",
   "metadata": {},
   "outputs": [],
   "source": [
    "# Predicting tomorrow's temperature using data from today \n",
    "main_weather['target'] = main_weather.shift(-1)['temp_max']"
   ]
  },
  {
   "cell_type": "code",
   "execution_count": 56,
   "id": "a143c5a0",
   "metadata": {},
   "outputs": [
    {
     "data": {
      "text/html": [
       "<div>\n",
       "<style scoped>\n",
       "    .dataframe tbody tr th:only-of-type {\n",
       "        vertical-align: middle;\n",
       "    }\n",
       "\n",
       "    .dataframe tbody tr th {\n",
       "        vertical-align: top;\n",
       "    }\n",
       "\n",
       "    .dataframe thead th {\n",
       "        text-align: right;\n",
       "    }\n",
       "</style>\n",
       "<table border=\"1\" class=\"dataframe\">\n",
       "  <thead>\n",
       "    <tr style=\"text-align: right;\">\n",
       "      <th></th>\n",
       "      <th>precip</th>\n",
       "      <th>snow</th>\n",
       "      <th>snow_depth</th>\n",
       "      <th>temp_max</th>\n",
       "      <th>temp_min</th>\n",
       "      <th>target</th>\n",
       "    </tr>\n",
       "    <tr>\n",
       "      <th>DATE</th>\n",
       "      <th></th>\n",
       "      <th></th>\n",
       "      <th></th>\n",
       "      <th></th>\n",
       "      <th></th>\n",
       "      <th></th>\n",
       "    </tr>\n",
       "  </thead>\n",
       "  <tbody>\n",
       "    <tr>\n",
       "      <th>1960-01-01</th>\n",
       "      <td>0.00</td>\n",
       "      <td>0.0</td>\n",
       "      <td>0.0</td>\n",
       "      <td>35</td>\n",
       "      <td>27</td>\n",
       "      <td>43.0</td>\n",
       "    </tr>\n",
       "    <tr>\n",
       "      <th>1960-01-02</th>\n",
       "      <td>0.00</td>\n",
       "      <td>0.0</td>\n",
       "      <td>0.0</td>\n",
       "      <td>43</td>\n",
       "      <td>31</td>\n",
       "      <td>31.0</td>\n",
       "    </tr>\n",
       "    <tr>\n",
       "      <th>1960-01-03</th>\n",
       "      <td>0.00</td>\n",
       "      <td>0.0</td>\n",
       "      <td>0.0</td>\n",
       "      <td>31</td>\n",
       "      <td>13</td>\n",
       "      <td>21.0</td>\n",
       "    </tr>\n",
       "    <tr>\n",
       "      <th>1960-01-04</th>\n",
       "      <td>0.00</td>\n",
       "      <td>0.0</td>\n",
       "      <td>0.0</td>\n",
       "      <td>21</td>\n",
       "      <td>8</td>\n",
       "      <td>20.0</td>\n",
       "    </tr>\n",
       "    <tr>\n",
       "      <th>1960-01-05</th>\n",
       "      <td>0.00</td>\n",
       "      <td>0.0</td>\n",
       "      <td>0.0</td>\n",
       "      <td>20</td>\n",
       "      <td>9</td>\n",
       "      <td>34.0</td>\n",
       "    </tr>\n",
       "    <tr>\n",
       "      <th>...</th>\n",
       "      <td>...</td>\n",
       "      <td>...</td>\n",
       "      <td>...</td>\n",
       "      <td>...</td>\n",
       "      <td>...</td>\n",
       "      <td>...</td>\n",
       "    </tr>\n",
       "    <tr>\n",
       "      <th>2023-05-28</th>\n",
       "      <td>0.00</td>\n",
       "      <td>0.0</td>\n",
       "      <td>0.0</td>\n",
       "      <td>80</td>\n",
       "      <td>53</td>\n",
       "      <td>86.0</td>\n",
       "    </tr>\n",
       "    <tr>\n",
       "      <th>2023-05-29</th>\n",
       "      <td>0.00</td>\n",
       "      <td>0.0</td>\n",
       "      <td>0.0</td>\n",
       "      <td>86</td>\n",
       "      <td>53</td>\n",
       "      <td>91.0</td>\n",
       "    </tr>\n",
       "    <tr>\n",
       "      <th>2023-05-30</th>\n",
       "      <td>0.00</td>\n",
       "      <td>0.0</td>\n",
       "      <td>0.0</td>\n",
       "      <td>91</td>\n",
       "      <td>59</td>\n",
       "      <td>91.0</td>\n",
       "    </tr>\n",
       "    <tr>\n",
       "      <th>2023-05-31</th>\n",
       "      <td>0.29</td>\n",
       "      <td>0.0</td>\n",
       "      <td>0.0</td>\n",
       "      <td>91</td>\n",
       "      <td>69</td>\n",
       "      <td>91.0</td>\n",
       "    </tr>\n",
       "    <tr>\n",
       "      <th>2023-06-01</th>\n",
       "      <td>0.88</td>\n",
       "      <td>0.0</td>\n",
       "      <td>0.0</td>\n",
       "      <td>91</td>\n",
       "      <td>68</td>\n",
       "      <td>NaN</td>\n",
       "    </tr>\n",
       "  </tbody>\n",
       "</table>\n",
       "<p>23163 rows × 6 columns</p>\n",
       "</div>"
      ],
      "text/plain": [
       "            precip  snow  snow_depth  temp_max  temp_min  target\n",
       "DATE                                                            \n",
       "1960-01-01    0.00   0.0         0.0        35        27    43.0\n",
       "1960-01-02    0.00   0.0         0.0        43        31    31.0\n",
       "1960-01-03    0.00   0.0         0.0        31        13    21.0\n",
       "1960-01-04    0.00   0.0         0.0        21         8    20.0\n",
       "1960-01-05    0.00   0.0         0.0        20         9    34.0\n",
       "...            ...   ...         ...       ...       ...     ...\n",
       "2023-05-28    0.00   0.0         0.0        80        53    86.0\n",
       "2023-05-29    0.00   0.0         0.0        86        53    91.0\n",
       "2023-05-30    0.00   0.0         0.0        91        59    91.0\n",
       "2023-05-31    0.29   0.0         0.0        91        69    91.0\n",
       "2023-06-01    0.88   0.0         0.0        91        68     NaN\n",
       "\n",
       "[23163 rows x 6 columns]"
      ]
     },
     "execution_count": 56,
     "metadata": {},
     "output_type": "execute_result"
    }
   ],
   "source": [
    "main_weather"
   ]
  },
  {
   "cell_type": "code",
   "execution_count": 58,
   "id": "02e9425a",
   "metadata": {},
   "outputs": [],
   "source": [
    "# Droping the last row containg the null value \n",
    "main_weather =main_weather.iloc[:-1,:].copy()"
   ]
  },
  {
   "cell_type": "code",
   "execution_count": 59,
   "id": "db6beb47",
   "metadata": {},
   "outputs": [
    {
     "data": {
      "text/html": [
       "<div>\n",
       "<style scoped>\n",
       "    .dataframe tbody tr th:only-of-type {\n",
       "        vertical-align: middle;\n",
       "    }\n",
       "\n",
       "    .dataframe tbody tr th {\n",
       "        vertical-align: top;\n",
       "    }\n",
       "\n",
       "    .dataframe thead th {\n",
       "        text-align: right;\n",
       "    }\n",
       "</style>\n",
       "<table border=\"1\" class=\"dataframe\">\n",
       "  <thead>\n",
       "    <tr style=\"text-align: right;\">\n",
       "      <th></th>\n",
       "      <th>precip</th>\n",
       "      <th>snow</th>\n",
       "      <th>snow_depth</th>\n",
       "      <th>temp_max</th>\n",
       "      <th>temp_min</th>\n",
       "      <th>target</th>\n",
       "    </tr>\n",
       "    <tr>\n",
       "      <th>DATE</th>\n",
       "      <th></th>\n",
       "      <th></th>\n",
       "      <th></th>\n",
       "      <th></th>\n",
       "      <th></th>\n",
       "      <th></th>\n",
       "    </tr>\n",
       "  </thead>\n",
       "  <tbody>\n",
       "    <tr>\n",
       "      <th>1960-01-01</th>\n",
       "      <td>0.0</td>\n",
       "      <td>0.0</td>\n",
       "      <td>0.0</td>\n",
       "      <td>35</td>\n",
       "      <td>27</td>\n",
       "      <td>43.0</td>\n",
       "    </tr>\n",
       "    <tr>\n",
       "      <th>1960-01-02</th>\n",
       "      <td>0.0</td>\n",
       "      <td>0.0</td>\n",
       "      <td>0.0</td>\n",
       "      <td>43</td>\n",
       "      <td>31</td>\n",
       "      <td>31.0</td>\n",
       "    </tr>\n",
       "    <tr>\n",
       "      <th>1960-01-03</th>\n",
       "      <td>0.0</td>\n",
       "      <td>0.0</td>\n",
       "      <td>0.0</td>\n",
       "      <td>31</td>\n",
       "      <td>13</td>\n",
       "      <td>21.0</td>\n",
       "    </tr>\n",
       "    <tr>\n",
       "      <th>1960-01-04</th>\n",
       "      <td>0.0</td>\n",
       "      <td>0.0</td>\n",
       "      <td>0.0</td>\n",
       "      <td>21</td>\n",
       "      <td>8</td>\n",
       "      <td>20.0</td>\n",
       "    </tr>\n",
       "    <tr>\n",
       "      <th>1960-01-05</th>\n",
       "      <td>0.0</td>\n",
       "      <td>0.0</td>\n",
       "      <td>0.0</td>\n",
       "      <td>20</td>\n",
       "      <td>9</td>\n",
       "      <td>34.0</td>\n",
       "    </tr>\n",
       "    <tr>\n",
       "      <th>...</th>\n",
       "      <td>...</td>\n",
       "      <td>...</td>\n",
       "      <td>...</td>\n",
       "      <td>...</td>\n",
       "      <td>...</td>\n",
       "      <td>...</td>\n",
       "    </tr>\n",
       "    <tr>\n",
       "      <th>2023-05-26</th>\n",
       "      <td>0.0</td>\n",
       "      <td>0.0</td>\n",
       "      <td>0.0</td>\n",
       "      <td>70</td>\n",
       "      <td>45</td>\n",
       "      <td>74.0</td>\n",
       "    </tr>\n",
       "    <tr>\n",
       "      <th>2023-05-27</th>\n",
       "      <td>0.0</td>\n",
       "      <td>0.0</td>\n",
       "      <td>0.0</td>\n",
       "      <td>74</td>\n",
       "      <td>47</td>\n",
       "      <td>80.0</td>\n",
       "    </tr>\n",
       "    <tr>\n",
       "      <th>2023-05-28</th>\n",
       "      <td>0.0</td>\n",
       "      <td>0.0</td>\n",
       "      <td>0.0</td>\n",
       "      <td>80</td>\n",
       "      <td>53</td>\n",
       "      <td>86.0</td>\n",
       "    </tr>\n",
       "    <tr>\n",
       "      <th>2023-05-29</th>\n",
       "      <td>0.0</td>\n",
       "      <td>0.0</td>\n",
       "      <td>0.0</td>\n",
       "      <td>86</td>\n",
       "      <td>53</td>\n",
       "      <td>91.0</td>\n",
       "    </tr>\n",
       "    <tr>\n",
       "      <th>2023-05-30</th>\n",
       "      <td>0.0</td>\n",
       "      <td>0.0</td>\n",
       "      <td>0.0</td>\n",
       "      <td>91</td>\n",
       "      <td>59</td>\n",
       "      <td>91.0</td>\n",
       "    </tr>\n",
       "  </tbody>\n",
       "</table>\n",
       "<p>23161 rows × 6 columns</p>\n",
       "</div>"
      ],
      "text/plain": [
       "            precip  snow  snow_depth  temp_max  temp_min  target\n",
       "DATE                                                            \n",
       "1960-01-01     0.0   0.0         0.0        35        27    43.0\n",
       "1960-01-02     0.0   0.0         0.0        43        31    31.0\n",
       "1960-01-03     0.0   0.0         0.0        31        13    21.0\n",
       "1960-01-04     0.0   0.0         0.0        21         8    20.0\n",
       "1960-01-05     0.0   0.0         0.0        20         9    34.0\n",
       "...            ...   ...         ...       ...       ...     ...\n",
       "2023-05-26     0.0   0.0         0.0        70        45    74.0\n",
       "2023-05-27     0.0   0.0         0.0        74        47    80.0\n",
       "2023-05-28     0.0   0.0         0.0        80        53    86.0\n",
       "2023-05-29     0.0   0.0         0.0        86        53    91.0\n",
       "2023-05-30     0.0   0.0         0.0        91        59    91.0\n",
       "\n",
       "[23161 rows x 6 columns]"
      ]
     },
     "execution_count": 59,
     "metadata": {},
     "output_type": "execute_result"
    }
   ],
   "source": [
    "main_weather"
   ]
  },
  {
   "cell_type": "code",
   "execution_count": 60,
   "id": "e6c3d365",
   "metadata": {},
   "outputs": [],
   "source": [
    "\n",
    "features = ['precip', 'snow','snow_depth', 'temp_max', 'temp_min']\n",
    "label = ['target']"
   ]
  },
  {
   "cell_type": "code",
   "execution_count": 62,
   "id": "3f2aa586",
   "metadata": {},
   "outputs": [],
   "source": [
    "# We cannot use the future data to predict the past weather conditions, which is why we cannot use the train-test split since\n",
    "# it will randomly split our data without consideriing the time boundation\n",
    "train = main_weather.loc[:\"2020-12-31\"]"
   ]
  },
  {
   "cell_type": "code",
   "execution_count": 63,
   "id": "e12ab58c",
   "metadata": {},
   "outputs": [],
   "source": [
    "test = main_weather.loc[\"2021-01-01\":]"
   ]
  },
  {
   "cell_type": "markdown",
   "id": "94144fa3",
   "metadata": {},
   "source": [
    "# 1) Ridge Regression"
   ]
  },
  {
   "cell_type": "code",
   "execution_count": 65,
   "id": "80a79a9d",
   "metadata": {},
   "outputs": [],
   "source": [
    "from sklearn.linear_model import Ridge"
   ]
  },
  {
   "cell_type": "code",
   "execution_count": 67,
   "id": "14c56919",
   "metadata": {},
   "outputs": [
    {
     "data": {
      "text/html": [
       "<style>#sk-container-id-1 {color: black;background-color: white;}#sk-container-id-1 pre{padding: 0;}#sk-container-id-1 div.sk-toggleable {background-color: white;}#sk-container-id-1 label.sk-toggleable__label {cursor: pointer;display: block;width: 100%;margin-bottom: 0;padding: 0.3em;box-sizing: border-box;text-align: center;}#sk-container-id-1 label.sk-toggleable__label-arrow:before {content: \"▸\";float: left;margin-right: 0.25em;color: #696969;}#sk-container-id-1 label.sk-toggleable__label-arrow:hover:before {color: black;}#sk-container-id-1 div.sk-estimator:hover label.sk-toggleable__label-arrow:before {color: black;}#sk-container-id-1 div.sk-toggleable__content {max-height: 0;max-width: 0;overflow: hidden;text-align: left;background-color: #f0f8ff;}#sk-container-id-1 div.sk-toggleable__content pre {margin: 0.2em;color: black;border-radius: 0.25em;background-color: #f0f8ff;}#sk-container-id-1 input.sk-toggleable__control:checked~div.sk-toggleable__content {max-height: 200px;max-width: 100%;overflow: auto;}#sk-container-id-1 input.sk-toggleable__control:checked~label.sk-toggleable__label-arrow:before {content: \"▾\";}#sk-container-id-1 div.sk-estimator input.sk-toggleable__control:checked~label.sk-toggleable__label {background-color: #d4ebff;}#sk-container-id-1 div.sk-label input.sk-toggleable__control:checked~label.sk-toggleable__label {background-color: #d4ebff;}#sk-container-id-1 input.sk-hidden--visually {border: 0;clip: rect(1px 1px 1px 1px);clip: rect(1px, 1px, 1px, 1px);height: 1px;margin: -1px;overflow: hidden;padding: 0;position: absolute;width: 1px;}#sk-container-id-1 div.sk-estimator {font-family: monospace;background-color: #f0f8ff;border: 1px dotted black;border-radius: 0.25em;box-sizing: border-box;margin-bottom: 0.5em;}#sk-container-id-1 div.sk-estimator:hover {background-color: #d4ebff;}#sk-container-id-1 div.sk-parallel-item::after {content: \"\";width: 100%;border-bottom: 1px solid gray;flex-grow: 1;}#sk-container-id-1 div.sk-label:hover label.sk-toggleable__label {background-color: #d4ebff;}#sk-container-id-1 div.sk-serial::before {content: \"\";position: absolute;border-left: 1px solid gray;box-sizing: border-box;top: 0;bottom: 0;left: 50%;z-index: 0;}#sk-container-id-1 div.sk-serial {display: flex;flex-direction: column;align-items: center;background-color: white;padding-right: 0.2em;padding-left: 0.2em;position: relative;}#sk-container-id-1 div.sk-item {position: relative;z-index: 1;}#sk-container-id-1 div.sk-parallel {display: flex;align-items: stretch;justify-content: center;background-color: white;position: relative;}#sk-container-id-1 div.sk-item::before, #sk-container-id-1 div.sk-parallel-item::before {content: \"\";position: absolute;border-left: 1px solid gray;box-sizing: border-box;top: 0;bottom: 0;left: 50%;z-index: -1;}#sk-container-id-1 div.sk-parallel-item {display: flex;flex-direction: column;z-index: 1;position: relative;background-color: white;}#sk-container-id-1 div.sk-parallel-item:first-child::after {align-self: flex-end;width: 50%;}#sk-container-id-1 div.sk-parallel-item:last-child::after {align-self: flex-start;width: 50%;}#sk-container-id-1 div.sk-parallel-item:only-child::after {width: 0;}#sk-container-id-1 div.sk-dashed-wrapped {border: 1px dashed gray;margin: 0 0.4em 0.5em 0.4em;box-sizing: border-box;padding-bottom: 0.4em;background-color: white;}#sk-container-id-1 div.sk-label label {font-family: monospace;font-weight: bold;display: inline-block;line-height: 1.2em;}#sk-container-id-1 div.sk-label-container {text-align: center;}#sk-container-id-1 div.sk-container {/* jupyter's `normalize.less` sets `[hidden] { display: none; }` but bootstrap.min.css set `[hidden] { display: none !important; }` so we also need the `!important` here to be able to override the default hidden behavior on the sphinx rendered scikit-learn.org. See: https://github.com/scikit-learn/scikit-learn/issues/21755 */display: inline-block !important;position: relative;}#sk-container-id-1 div.sk-text-repr-fallback {display: none;}</style><div id=\"sk-container-id-1\" class=\"sk-top-container\"><div class=\"sk-text-repr-fallback\"><pre>Ridge()</pre><b>In a Jupyter environment, please rerun this cell to show the HTML representation or trust the notebook. <br />On GitHub, the HTML representation is unable to render, please try loading this page with nbviewer.org.</b></div><div class=\"sk-container\" hidden><div class=\"sk-item\"><div class=\"sk-estimator sk-toggleable\"><input class=\"sk-toggleable__control sk-hidden--visually\" id=\"sk-estimator-id-1\" type=\"checkbox\" checked><label for=\"sk-estimator-id-1\" class=\"sk-toggleable__label sk-toggleable__label-arrow\">Ridge</label><div class=\"sk-toggleable__content\"><pre>Ridge()</pre></div></div></div></div></div>"
      ],
      "text/plain": [
       "Ridge()"
      ]
     },
     "execution_count": 67,
     "metadata": {},
     "output_type": "execute_result"
    }
   ],
   "source": [
    "clf = Ridge(alpha=1.0)\n",
    "clf.fit(train[features], train[label])"
   ]
  },
  {
   "cell_type": "code",
   "execution_count": 69,
   "id": "6a665819",
   "metadata": {},
   "outputs": [],
   "source": [
    "predictions = clf.predict(test[features])"
   ]
  },
  {
   "cell_type": "code",
   "execution_count": 71,
   "id": "908936d1",
   "metadata": {},
   "outputs": [],
   "source": [
    "from sklearn.metrics import mean_absolute_error"
   ]
  },
  {
   "cell_type": "code",
   "execution_count": 72,
   "id": "96097572",
   "metadata": {},
   "outputs": [
    {
     "data": {
      "text/plain": [
       "6.4594319012205945"
      ]
     },
     "execution_count": 72,
     "metadata": {},
     "output_type": "execute_result"
    }
   ],
   "source": [
    " error = mean_absolute_error(test[label], predictions)"
   ]
  },
  {
   "cell_type": "code",
   "execution_count": 77,
   "id": "9a72914a",
   "metadata": {},
   "outputs": [],
   "source": [
    "from sklearn.metrics import r2_score"
   ]
  },
  {
   "cell_type": "code",
   "execution_count": 79,
   "id": "98f9744c",
   "metadata": {},
   "outputs": [
    {
     "data": {
      "text/plain": [
       "0.8424525885857976"
      ]
     },
     "execution_count": 79,
     "metadata": {},
     "output_type": "execute_result"
    }
   ],
   "source": [
    "r2_score(test[label], predictions)"
   ]
  },
  {
   "cell_type": "code",
   "execution_count": 87,
   "id": "1ff752a8",
   "metadata": {},
   "outputs": [],
   "source": [
    "combined = pd.concat([test['target'], pd.Series(predictions.flatten(), index=test.index)], axis =1)"
   ]
  },
  {
   "cell_type": "code",
   "execution_count": 90,
   "id": "daa4192d",
   "metadata": {},
   "outputs": [],
   "source": [
    "combined.columns = [\"actual\", \"predictions\"]"
   ]
  },
  {
   "cell_type": "code",
   "execution_count": 91,
   "id": "172ea055",
   "metadata": {},
   "outputs": [
    {
     "data": {
      "text/html": [
       "<div>\n",
       "<style scoped>\n",
       "    .dataframe tbody tr th:only-of-type {\n",
       "        vertical-align: middle;\n",
       "    }\n",
       "\n",
       "    .dataframe tbody tr th {\n",
       "        vertical-align: top;\n",
       "    }\n",
       "\n",
       "    .dataframe thead th {\n",
       "        text-align: right;\n",
       "    }\n",
       "</style>\n",
       "<table border=\"1\" class=\"dataframe\">\n",
       "  <thead>\n",
       "    <tr style=\"text-align: right;\">\n",
       "      <th></th>\n",
       "      <th>actual</th>\n",
       "      <th>predictions</th>\n",
       "    </tr>\n",
       "    <tr>\n",
       "      <th>DATE</th>\n",
       "      <th></th>\n",
       "      <th></th>\n",
       "    </tr>\n",
       "  </thead>\n",
       "  <tbody>\n",
       "    <tr>\n",
       "      <th>2021-01-01</th>\n",
       "      <td>35.0</td>\n",
       "      <td>34.094795</td>\n",
       "    </tr>\n",
       "    <tr>\n",
       "      <th>2021-01-02</th>\n",
       "      <td>33.0</td>\n",
       "      <td>39.115625</td>\n",
       "    </tr>\n",
       "    <tr>\n",
       "      <th>2021-01-03</th>\n",
       "      <td>30.0</td>\n",
       "      <td>36.612877</td>\n",
       "    </tr>\n",
       "    <tr>\n",
       "      <th>2021-01-04</th>\n",
       "      <td>37.0</td>\n",
       "      <td>34.566128</td>\n",
       "    </tr>\n",
       "    <tr>\n",
       "      <th>2021-01-05</th>\n",
       "      <td>39.0</td>\n",
       "      <td>40.798726</td>\n",
       "    </tr>\n",
       "    <tr>\n",
       "      <th>...</th>\n",
       "      <td>...</td>\n",
       "      <td>...</td>\n",
       "    </tr>\n",
       "    <tr>\n",
       "      <th>2023-05-26</th>\n",
       "      <td>74.0</td>\n",
       "      <td>68.537352</td>\n",
       "    </tr>\n",
       "    <tr>\n",
       "      <th>2023-05-27</th>\n",
       "      <td>80.0</td>\n",
       "      <td>71.903555</td>\n",
       "    </tr>\n",
       "    <tr>\n",
       "      <th>2023-05-28</th>\n",
       "      <td>86.0</td>\n",
       "      <td>77.636346</td>\n",
       "    </tr>\n",
       "    <tr>\n",
       "      <th>2023-05-29</th>\n",
       "      <td>91.0</td>\n",
       "      <td>82.002166</td>\n",
       "    </tr>\n",
       "    <tr>\n",
       "      <th>2023-05-30</th>\n",
       "      <td>91.0</td>\n",
       "      <td>87.007320</td>\n",
       "    </tr>\n",
       "  </tbody>\n",
       "</table>\n",
       "<p>880 rows × 2 columns</p>\n",
       "</div>"
      ],
      "text/plain": [
       "            actual  predictions\n",
       "DATE                           \n",
       "2021-01-01    35.0    34.094795\n",
       "2021-01-02    33.0    39.115625\n",
       "2021-01-03    30.0    36.612877\n",
       "2021-01-04    37.0    34.566128\n",
       "2021-01-05    39.0    40.798726\n",
       "...            ...          ...\n",
       "2023-05-26    74.0    68.537352\n",
       "2023-05-27    80.0    71.903555\n",
       "2023-05-28    86.0    77.636346\n",
       "2023-05-29    91.0    82.002166\n",
       "2023-05-30    91.0    87.007320\n",
       "\n",
       "[880 rows x 2 columns]"
      ]
     },
     "execution_count": 91,
     "metadata": {},
     "output_type": "execute_result"
    }
   ],
   "source": [
    "combined"
   ]
  },
  {
   "cell_type": "code",
   "execution_count": 92,
   "id": "0b79ec91",
   "metadata": {},
   "outputs": [
    {
     "data": {
      "text/plain": [
       "<Axes: xlabel='DATE'>"
      ]
     },
     "execution_count": 92,
     "metadata": {},
     "output_type": "execute_result"
    },
    {
     "data": {
      "image/png": "[encoded data removed]",
      "text/plain": [
       "<Figure size 640x480 with 1 Axes>"
      ]
     },
     "metadata": {},
     "output_type": "display_data"
    }
   ],
   "source": [
    "combined.plot()"
   ]
  },
  {
   "cell_type": "code",
   "execution_count": 93,
   "id": "6c2b48ff",
   "metadata": {},
   "outputs": [
    {
     "data": {
      "text/plain": [
       "array([[-3.82128362, -1.1929459 , -0.04068072,  0.72763661,  0.2278285 ]])"
      ]
     },
     "execution_count": 93,
     "metadata": {},
     "output_type": "execute_result"
    }
   ],
   "source": [
    "clf.coef_"
   ]
  },
  {
   "cell_type": "markdown",
   "id": "6699096e",
   "metadata": {},
   "source": [
    "# Improving our model - Adding more features to the dataset "
   ]
  },
  {
   "cell_type": "code",
   "execution_count": 116,
   "id": "42d96905",
   "metadata": {},
   "outputs": [],
   "source": [
    "def cr_prediction(features, main_weather, clf):\n",
    "    train = main_weather.loc[:\"2020-12-31\"]\n",
    "    test = main_weather.loc[\"2021-01-01\":]\n",
    "    clf.fit(train[features], train[label])\n",
    "    predictions1 = clf.predict(test[features])\n",
    "    error1 = mean_absolute_error(test[label], predictions)\n",
    "    combined1 = pd.concat([test['target'], pd.Series(predictions1.flatten(), index=test.index)], axis =1)\n",
    "    combined1.columns = [\"actual\", \"predictions\"]\n",
    "    return error1, combined1 \n",
    "    \n",
    "    "
   ]
  },
  {
   "cell_type": "markdown",
   "id": "0eed9cfd",
   "metadata": {},
   "source": [
    "# Try-1 "
   ]
  },
  {
   "cell_type": "code",
   "execution_count": 95,
   "id": "8cea0e6e",
   "metadata": {},
   "outputs": [],
   "source": [
    "main_weather['month_avg_max'] = main_weather['temp_max'].rolling(30).mean()"
   ]
  },
  {
   "cell_type": "code",
   "execution_count": 102,
   "id": "8e3ed261",
   "metadata": {},
   "outputs": [],
   "source": [
    "main_weather = main_weather.iloc[30:,:].copy()"
   ]
  },
  {
   "cell_type": "code",
   "execution_count": 98,
   "id": "e9652651",
   "metadata": {},
   "outputs": [],
   "source": [
    "main_weather['month_day_max'] = main_weather['month_avg_max'] / main_weather['temp_max']"
   ]
  },
  {
   "cell_type": "code",
   "execution_count": 100,
   "id": "b954464a",
   "metadata": {},
   "outputs": [],
   "source": [
    "main_weather['min_max'] = main_weather['temp_max']/main_weather['temp_min']"
   ]
  },
  {
   "cell_type": "code",
   "execution_count": 160,
   "id": "29b98f2d",
   "metadata": {},
   "outputs": [],
   "source": [
    "features = ['precip', 'snow','snow_depth', 'temp_max', 'temp_min', 'month_avg_max','month_day_max','min_max'] "
   ]
  },
  {
   "cell_type": "code",
   "execution_count": 161,
   "id": "618a99b5",
   "metadata": {},
   "outputs": [],
   "source": [
    "error1, combined1  =  cr_prediction(features, main_weather, clf)"
   ]
  },
  {
   "cell_type": "code",
   "execution_count": 162,
   "id": "fbb8e605",
   "metadata": {},
   "outputs": [
    {
     "data": {
      "text/plain": [
       "6.314085322466517"
      ]
     },
     "execution_count": 162,
     "metadata": {},
     "output_type": "execute_result"
    }
   ],
   "source": [
    "# There has been a slight reduction in our error from 6.4 to 6.3\n",
    "error1"
   ]
  },
  {
   "cell_type": "code",
   "execution_count": 163,
   "id": "7acc3f7d",
   "metadata": {},
   "outputs": [
    {
     "data": {
      "text/plain": [
       "<Axes: xlabel='DATE'>"
      ]
     },
     "execution_count": 163,
     "metadata": {},
     "output_type": "execute_result"
    },
    {
     "data": {
      "image/png": "[encoded data removed]",
      "text/plain": [
       "<Figure size 640x480 with 1 Axes>"
      ]
     },
     "metadata": {},
     "output_type": "display_data"
    }
   ],
   "source": [
    "combined.plot()"
   ]
  },
  {
   "cell_type": "markdown",
   "id": "f8d30108",
   "metadata": {},
   "source": [
    "# Try-2 - Adding more features "
   ]
  },
  {
   "cell_type": "code",
   "execution_count": 177,
   "id": "2e24a3e7",
   "metadata": {},
   "outputs": [
    {
     "name": "stderr",
     "output_type": "stream",
     "text": [
      "C:\\Users\\Tushar Chandel\\AppData\\Local\\Temp\\ipykernel_28692\\3150891963.py:1: FutureWarning: Not prepending group keys to the result index of transform-like apply. In the future, the group keys will be included in the index, regardless of whether the applied function returns a like-indexed object.\n",
      "To preserve the previous behavior, use\n",
      "\n",
      "\t>>> .groupby(..., group_keys=False)\n",
      "\n",
      "To adopt the future behavior and silence this warning, use \n",
      "\n",
      "\t>>> .groupby(..., group_keys=True)\n",
      "  main_weather['month_avg'] = main_weather['temp_max'].groupby(main_weather.index.month).apply(lambda x: x.expanding(1).mean())\n"
     ]
    }
   ],
   "source": [
    "main_weather['month_avg'] = main_weather['temp_max'].groupby(main_weather.index.month).apply(lambda x: x.expanding(1).mean())"
   ]
  },
  {
   "cell_type": "code",
   "execution_count": 215,
   "id": "5d5d50b3",
   "metadata": {},
   "outputs": [
    {
     "data": {
      "text/html": [
       "<div>\n",
       "<style scoped>\n",
       "    .dataframe tbody tr th:only-of-type {\n",
       "        vertical-align: middle;\n",
       "    }\n",
       "\n",
       "    .dataframe tbody tr th {\n",
       "        vertical-align: top;\n",
       "    }\n",
       "\n",
       "    .dataframe thead th {\n",
       "        text-align: right;\n",
       "    }\n",
       "</style>\n",
       "<table border=\"1\" class=\"dataframe\">\n",
       "  <thead>\n",
       "    <tr style=\"text-align: right;\">\n",
       "      <th></th>\n",
       "      <th>precip</th>\n",
       "      <th>snow</th>\n",
       "      <th>snow_depth</th>\n",
       "      <th>temp_max</th>\n",
       "      <th>temp_min</th>\n",
       "      <th>target</th>\n",
       "      <th>month_avg_max</th>\n",
       "      <th>month_day_max</th>\n",
       "      <th>min_max</th>\n",
       "      <th>month_avg</th>\n",
       "      <th>day_avg</th>\n",
       "    </tr>\n",
       "    <tr>\n",
       "      <th>DATE</th>\n",
       "      <th></th>\n",
       "      <th></th>\n",
       "      <th></th>\n",
       "      <th></th>\n",
       "      <th></th>\n",
       "      <th></th>\n",
       "      <th></th>\n",
       "      <th></th>\n",
       "      <th></th>\n",
       "      <th></th>\n",
       "      <th></th>\n",
       "    </tr>\n",
       "  </thead>\n",
       "  <tbody>\n",
       "    <tr>\n",
       "      <th>1960-01-31</th>\n",
       "      <td>0.0</td>\n",
       "      <td>0.0</td>\n",
       "      <td>0.0</td>\n",
       "      <td>40</td>\n",
       "      <td>27</td>\n",
       "      <td>34.0</td>\n",
       "      <td>32.566667</td>\n",
       "      <td>0.814167</td>\n",
       "      <td>1.481481</td>\n",
       "      <td>40.000000</td>\n",
       "      <td>40.00000</td>\n",
       "    </tr>\n",
       "    <tr>\n",
       "      <th>1960-02-01</th>\n",
       "      <td>0.0</td>\n",
       "      <td>0.0</td>\n",
       "      <td>0.0</td>\n",
       "      <td>34</td>\n",
       "      <td>28</td>\n",
       "      <td>29.0</td>\n",
       "      <td>32.266667</td>\n",
       "      <td>0.949020</td>\n",
       "      <td>1.214286</td>\n",
       "      <td>34.000000</td>\n",
       "      <td>34.00000</td>\n",
       "    </tr>\n",
       "    <tr>\n",
       "      <th>1960-02-02</th>\n",
       "      <td>0.0</td>\n",
       "      <td>0.0</td>\n",
       "      <td>0.0</td>\n",
       "      <td>29</td>\n",
       "      <td>24</td>\n",
       "      <td>34.0</td>\n",
       "      <td>32.200000</td>\n",
       "      <td>1.110345</td>\n",
       "      <td>1.208333</td>\n",
       "      <td>31.500000</td>\n",
       "      <td>29.00000</td>\n",
       "    </tr>\n",
       "    <tr>\n",
       "      <th>1960-02-03</th>\n",
       "      <td>0.0</td>\n",
       "      <td>0.0</td>\n",
       "      <td>0.0</td>\n",
       "      <td>34</td>\n",
       "      <td>24</td>\n",
       "      <td>37.0</td>\n",
       "      <td>32.633333</td>\n",
       "      <td>0.959804</td>\n",
       "      <td>1.416667</td>\n",
       "      <td>32.333333</td>\n",
       "      <td>34.00000</td>\n",
       "    </tr>\n",
       "    <tr>\n",
       "      <th>1960-02-04</th>\n",
       "      <td>0.2</td>\n",
       "      <td>0.0</td>\n",
       "      <td>0.0</td>\n",
       "      <td>37</td>\n",
       "      <td>28</td>\n",
       "      <td>39.0</td>\n",
       "      <td>33.200000</td>\n",
       "      <td>0.897297</td>\n",
       "      <td>1.321429</td>\n",
       "      <td>33.500000</td>\n",
       "      <td>37.00000</td>\n",
       "    </tr>\n",
       "    <tr>\n",
       "      <th>...</th>\n",
       "      <td>...</td>\n",
       "      <td>...</td>\n",
       "      <td>...</td>\n",
       "      <td>...</td>\n",
       "      <td>...</td>\n",
       "      <td>...</td>\n",
       "      <td>...</td>\n",
       "      <td>...</td>\n",
       "      <td>...</td>\n",
       "      <td>...</td>\n",
       "      <td>...</td>\n",
       "    </tr>\n",
       "    <tr>\n",
       "      <th>2023-05-26</th>\n",
       "      <td>0.0</td>\n",
       "      <td>0.0</td>\n",
       "      <td>0.0</td>\n",
       "      <td>70</td>\n",
       "      <td>45</td>\n",
       "      <td>74.0</td>\n",
       "      <td>70.100000</td>\n",
       "      <td>1.001429</td>\n",
       "      <td>1.555556</td>\n",
       "      <td>70.079838</td>\n",
       "      <td>72.46875</td>\n",
       "    </tr>\n",
       "    <tr>\n",
       "      <th>2023-05-27</th>\n",
       "      <td>0.0</td>\n",
       "      <td>0.0</td>\n",
       "      <td>0.0</td>\n",
       "      <td>74</td>\n",
       "      <td>47</td>\n",
       "      <td>80.0</td>\n",
       "      <td>70.333333</td>\n",
       "      <td>0.950450</td>\n",
       "      <td>1.574468</td>\n",
       "      <td>70.081818</td>\n",
       "      <td>73.06250</td>\n",
       "    </tr>\n",
       "    <tr>\n",
       "      <th>2023-05-28</th>\n",
       "      <td>0.0</td>\n",
       "      <td>0.0</td>\n",
       "      <td>0.0</td>\n",
       "      <td>80</td>\n",
       "      <td>53</td>\n",
       "      <td>86.0</td>\n",
       "      <td>70.900000</td>\n",
       "      <td>0.886250</td>\n",
       "      <td>1.509434</td>\n",
       "      <td>70.086825</td>\n",
       "      <td>73.87500</td>\n",
       "    </tr>\n",
       "    <tr>\n",
       "      <th>2023-05-29</th>\n",
       "      <td>0.0</td>\n",
       "      <td>0.0</td>\n",
       "      <td>0.0</td>\n",
       "      <td>86</td>\n",
       "      <td>53</td>\n",
       "      <td>91.0</td>\n",
       "      <td>71.800000</td>\n",
       "      <td>0.834884</td>\n",
       "      <td>1.622642</td>\n",
       "      <td>70.094854</td>\n",
       "      <td>74.71875</td>\n",
       "    </tr>\n",
       "    <tr>\n",
       "      <th>2023-05-30</th>\n",
       "      <td>0.0</td>\n",
       "      <td>0.0</td>\n",
       "      <td>0.0</td>\n",
       "      <td>91</td>\n",
       "      <td>59</td>\n",
       "      <td>91.0</td>\n",
       "      <td>73.233333</td>\n",
       "      <td>0.804762</td>\n",
       "      <td>1.542373</td>\n",
       "      <td>70.105396</td>\n",
       "      <td>76.06250</td>\n",
       "    </tr>\n",
       "  </tbody>\n",
       "</table>\n",
       "<p>23131 rows × 11 columns</p>\n",
       "</div>"
      ],
      "text/plain": [
       "            precip  snow  snow_depth  temp_max  temp_min  target  \\\n",
       "DATE                                                               \n",
       "1960-01-31     0.0   0.0         0.0        40        27    34.0   \n",
       "1960-02-01     0.0   0.0         0.0        34        28    29.0   \n",
       "1960-02-02     0.0   0.0         0.0        29        24    34.0   \n",
       "1960-02-03     0.0   0.0         0.0        34        24    37.0   \n",
       "1960-02-04     0.2   0.0         0.0        37        28    39.0   \n",
       "...            ...   ...         ...       ...       ...     ...   \n",
       "2023-05-26     0.0   0.0         0.0        70        45    74.0   \n",
       "2023-05-27     0.0   0.0         0.0        74        47    80.0   \n",
       "2023-05-28     0.0   0.0         0.0        80        53    86.0   \n",
       "2023-05-29     0.0   0.0         0.0        86        53    91.0   \n",
       "2023-05-30     0.0   0.0         0.0        91        59    91.0   \n",
       "\n",
       "            month_avg_max  month_day_max   min_max  month_avg   day_avg  \n",
       "DATE                                                                     \n",
       "1960-01-31      32.566667       0.814167  1.481481  40.000000  40.00000  \n",
       "1960-02-01      32.266667       0.949020  1.214286  34.000000  34.00000  \n",
       "1960-02-02      32.200000       1.110345  1.208333  31.500000  29.00000  \n",
       "1960-02-03      32.633333       0.959804  1.416667  32.333333  34.00000  \n",
       "1960-02-04      33.200000       0.897297  1.321429  33.500000  37.00000  \n",
       "...                   ...            ...       ...        ...       ...  \n",
       "2023-05-26      70.100000       1.001429  1.555556  70.079838  72.46875  \n",
       "2023-05-27      70.333333       0.950450  1.574468  70.081818  73.06250  \n",
       "2023-05-28      70.900000       0.886250  1.509434  70.086825  73.87500  \n",
       "2023-05-29      71.800000       0.834884  1.622642  70.094854  74.71875  \n",
       "2023-05-30      73.233333       0.804762  1.542373  70.105396  76.06250  \n",
       "\n",
       "[23131 rows x 11 columns]"
      ]
     },
     "execution_count": 215,
     "metadata": {},
     "output_type": "execute_result"
    }
   ],
   "source": [
    "main_weather"
   ]
  },
  {
   "cell_type": "code",
   "execution_count": 179,
   "id": "ee8d5011",
   "metadata": {
    "scrolled": true
   },
   "outputs": [
    {
     "name": "stderr",
     "output_type": "stream",
     "text": [
      "C:\\Users\\Tushar Chandel\\AppData\\Local\\Temp\\ipykernel_28692\\4138787386.py:1: FutureWarning: Not prepending group keys to the result index of transform-like apply. In the future, the group keys will be included in the index, regardless of whether the applied function returns a like-indexed object.\n",
      "To preserve the previous behavior, use\n",
      "\n",
      "\t>>> .groupby(..., group_keys=False)\n",
      "\n",
      "To adopt the future behavior and silence this warning, use \n",
      "\n",
      "\t>>> .groupby(..., group_keys=True)\n",
      "  main_weather['day_avg'] = main_weather['temp_max'].groupby(main_weather.index.day_of_year).apply(lambda x: x.expanding(1).mean())\n"
     ]
    }
   ],
   "source": [
    "main_weather['day_avg'] = main_weather['temp_max'].groupby(main_weather.index.day_of_year).apply(lambda x: x.expanding(1).mean())"
   ]
  },
  {
   "cell_type": "code",
   "execution_count": 218,
   "id": "88c524c2",
   "metadata": {},
   "outputs": [],
   "source": [
    "features = ['precip', 'snow','snow_depth', 'temp_max', 'temp_min', 'month_avg_max','month_day_max','min_max','month_avg', 'day_avg'] "
   ]
  },
  {
   "cell_type": "code",
   "execution_count": 183,
   "id": "0fd95118",
   "metadata": {},
   "outputs": [],
   "source": [
    "error1, combined1  =  cr_prediction(features, main_weather, clf)"
   ]
  },
  {
   "cell_type": "code",
   "execution_count": 184,
   "id": "f82d3516",
   "metadata": {},
   "outputs": [
    {
     "data": {
      "text/plain": [
       "6.080564187854534"
      ]
     },
     "execution_count": 184,
     "metadata": {},
     "output_type": "execute_result"
    }
   ],
   "source": [
    "#Again there has been a slight reduction in our error, we can improve this further by adding/removing more features or\n",
    "# trying different models \n",
    "error1"
   ]
  },
  {
   "cell_type": "code",
   "execution_count": 185,
   "id": "f1ae660b",
   "metadata": {},
   "outputs": [
    {
     "data": {
      "text/plain": [
       "precip           0.042115\n",
       "snow            -0.246152\n",
       "snow_depth      -0.382802\n",
       "temp_max         0.922476\n",
       "temp_min         0.886335\n",
       "target           1.000000\n",
       "month_avg_max    0.855239\n",
       "month_day_max   -0.181732\n",
       "min_max         -0.039281\n",
       "month_avg        0.874552\n",
       "day_avg          0.887885\n",
       "Name: target, dtype: float64"
      ]
     },
     "execution_count": 185,
     "metadata": {},
     "output_type": "execute_result"
    }
   ],
   "source": [
    "main_weather.corr()['target']"
   ]
  },
  {
   "cell_type": "code",
   "execution_count": 188,
   "id": "30dc4a71",
   "metadata": {},
   "outputs": [
    {
     "data": {
      "text/html": [
       "<div>\n",
       "<style scoped>\n",
       "    .dataframe tbody tr th:only-of-type {\n",
       "        vertical-align: middle;\n",
       "    }\n",
       "\n",
       "    .dataframe tbody tr th {\n",
       "        vertical-align: top;\n",
       "    }\n",
       "\n",
       "    .dataframe thead th {\n",
       "        text-align: right;\n",
       "    }\n",
       "</style>\n",
       "<table border=\"1\" class=\"dataframe\">\n",
       "  <thead>\n",
       "    <tr style=\"text-align: right;\">\n",
       "      <th></th>\n",
       "      <th>actual</th>\n",
       "      <th>predictions</th>\n",
       "    </tr>\n",
       "    <tr>\n",
       "      <th>DATE</th>\n",
       "      <th></th>\n",
       "      <th></th>\n",
       "    </tr>\n",
       "  </thead>\n",
       "  <tbody>\n",
       "    <tr>\n",
       "      <th>2021-01-01</th>\n",
       "      <td>35.0</td>\n",
       "      <td>31.393268</td>\n",
       "    </tr>\n",
       "    <tr>\n",
       "      <th>2021-01-02</th>\n",
       "      <td>33.0</td>\n",
       "      <td>35.432624</td>\n",
       "    </tr>\n",
       "    <tr>\n",
       "      <th>2021-01-03</th>\n",
       "      <td>30.0</td>\n",
       "      <td>33.528367</td>\n",
       "    </tr>\n",
       "    <tr>\n",
       "      <th>2021-01-04</th>\n",
       "      <td>37.0</td>\n",
       "      <td>32.021184</td>\n",
       "    </tr>\n",
       "    <tr>\n",
       "      <th>2021-01-05</th>\n",
       "      <td>39.0</td>\n",
       "      <td>36.425011</td>\n",
       "    </tr>\n",
       "    <tr>\n",
       "      <th>...</th>\n",
       "      <td>...</td>\n",
       "      <td>...</td>\n",
       "    </tr>\n",
       "    <tr>\n",
       "      <th>2023-05-26</th>\n",
       "      <td>74.0</td>\n",
       "      <td>70.403541</td>\n",
       "    </tr>\n",
       "    <tr>\n",
       "      <th>2023-05-27</th>\n",
       "      <td>80.0</td>\n",
       "      <td>72.986367</td>\n",
       "    </tr>\n",
       "    <tr>\n",
       "      <th>2023-05-28</th>\n",
       "      <td>86.0</td>\n",
       "      <td>77.203576</td>\n",
       "    </tr>\n",
       "    <tr>\n",
       "      <th>2023-05-29</th>\n",
       "      <td>91.0</td>\n",
       "      <td>80.698071</td>\n",
       "    </tr>\n",
       "    <tr>\n",
       "      <th>2023-05-30</th>\n",
       "      <td>91.0</td>\n",
       "      <td>84.458678</td>\n",
       "    </tr>\n",
       "  </tbody>\n",
       "</table>\n",
       "<p>880 rows × 2 columns</p>\n",
       "</div>"
      ],
      "text/plain": [
       "            actual  predictions\n",
       "DATE                           \n",
       "2021-01-01    35.0    31.393268\n",
       "2021-01-02    33.0    35.432624\n",
       "2021-01-03    30.0    33.528367\n",
       "2021-01-04    37.0    32.021184\n",
       "2021-01-05    39.0    36.425011\n",
       "...            ...          ...\n",
       "2023-05-26    74.0    70.403541\n",
       "2023-05-27    80.0    72.986367\n",
       "2023-05-28    86.0    77.203576\n",
       "2023-05-29    91.0    80.698071\n",
       "2023-05-30    91.0    84.458678\n",
       "\n",
       "[880 rows x 2 columns]"
      ]
     },
     "execution_count": 188,
     "metadata": {},
     "output_type": "execute_result"
    }
   ],
   "source": [
    "combined1"
   ]
  },
  {
   "cell_type": "markdown",
   "id": "3ab44317",
   "metadata": {},
   "source": [
    "# Try - 3 (Trying a different model)"
   ]
  },
  {
   "cell_type": "code",
   "execution_count": 222,
   "id": "c6b9ad99",
   "metadata": {},
   "outputs": [],
   "source": [
    "from sklearn.linear_model import LinearRegression"
   ]
  },
  {
   "cell_type": "code",
   "execution_count": 224,
   "id": "f12353bb",
   "metadata": {},
   "outputs": [],
   "source": [
    "train = main_weather.loc[:\"2020-12-31\"]\n",
    "test = main_weather.loc[\"2021-01-01\":]"
   ]
  },
  {
   "cell_type": "code",
   "execution_count": 226,
   "id": "9a229f1e",
   "metadata": {},
   "outputs": [
    {
     "data": {
      "text/html": [
       "<style>#sk-container-id-3 {color: black;background-color: white;}#sk-container-id-3 pre{padding: 0;}#sk-container-id-3 div.sk-toggleable {background-color: white;}#sk-container-id-3 label.sk-toggleable__label {cursor: pointer;display: block;width: 100%;margin-bottom: 0;padding: 0.3em;box-sizing: border-box;text-align: center;}#sk-container-id-3 label.sk-toggleable__label-arrow:before {content: \"▸\";float: left;margin-right: 0.25em;color: #696969;}#sk-container-id-3 label.sk-toggleable__label-arrow:hover:before {color: black;}#sk-container-id-3 div.sk-estimator:hover label.sk-toggleable__label-arrow:before {color: black;}#sk-container-id-3 div.sk-toggleable__content {max-height: 0;max-width: 0;overflow: hidden;text-align: left;background-color: #f0f8ff;}#sk-container-id-3 div.sk-toggleable__content pre {margin: 0.2em;color: black;border-radius: 0.25em;background-color: #f0f8ff;}#sk-container-id-3 input.sk-toggleable__control:checked~div.sk-toggleable__content {max-height: 200px;max-width: 100%;overflow: auto;}#sk-container-id-3 input.sk-toggleable__control:checked~label.sk-toggleable__label-arrow:before {content: \"▾\";}#sk-container-id-3 div.sk-estimator input.sk-toggleable__control:checked~label.sk-toggleable__label {background-color: #d4ebff;}#sk-container-id-3 div.sk-label input.sk-toggleable__control:checked~label.sk-toggleable__label {background-color: #d4ebff;}#sk-container-id-3 input.sk-hidden--visually {border: 0;clip: rect(1px 1px 1px 1px);clip: rect(1px, 1px, 1px, 1px);height: 1px;margin: -1px;overflow: hidden;padding: 0;position: absolute;width: 1px;}#sk-container-id-3 div.sk-estimator {font-family: monospace;background-color: #f0f8ff;border: 1px dotted black;border-radius: 0.25em;box-sizing: border-box;margin-bottom: 0.5em;}#sk-container-id-3 div.sk-estimator:hover {background-color: #d4ebff;}#sk-container-id-3 div.sk-parallel-item::after {content: \"\";width: 100%;border-bottom: 1px solid gray;flex-grow: 1;}#sk-container-id-3 div.sk-label:hover label.sk-toggleable__label {background-color: #d4ebff;}#sk-container-id-3 div.sk-serial::before {content: \"\";position: absolute;border-left: 1px solid gray;box-sizing: border-box;top: 0;bottom: 0;left: 50%;z-index: 0;}#sk-container-id-3 div.sk-serial {display: flex;flex-direction: column;align-items: center;background-color: white;padding-right: 0.2em;padding-left: 0.2em;position: relative;}#sk-container-id-3 div.sk-item {position: relative;z-index: 1;}#sk-container-id-3 div.sk-parallel {display: flex;align-items: stretch;justify-content: center;background-color: white;position: relative;}#sk-container-id-3 div.sk-item::before, #sk-container-id-3 div.sk-parallel-item::before {content: \"\";position: absolute;border-left: 1px solid gray;box-sizing: border-box;top: 0;bottom: 0;left: 50%;z-index: -1;}#sk-container-id-3 div.sk-parallel-item {display: flex;flex-direction: column;z-index: 1;position: relative;background-color: white;}#sk-container-id-3 div.sk-parallel-item:first-child::after {align-self: flex-end;width: 50%;}#sk-container-id-3 div.sk-parallel-item:last-child::after {align-self: flex-start;width: 50%;}#sk-container-id-3 div.sk-parallel-item:only-child::after {width: 0;}#sk-container-id-3 div.sk-dashed-wrapped {border: 1px dashed gray;margin: 0 0.4em 0.5em 0.4em;box-sizing: border-box;padding-bottom: 0.4em;background-color: white;}#sk-container-id-3 div.sk-label label {font-family: monospace;font-weight: bold;display: inline-block;line-height: 1.2em;}#sk-container-id-3 div.sk-label-container {text-align: center;}#sk-container-id-3 div.sk-container {/* jupyter's `normalize.less` sets `[hidden] { display: none; }` but bootstrap.min.css set `[hidden] { display: none !important; }` so we also need the `!important` here to be able to override the default hidden behavior on the sphinx rendered scikit-learn.org. See: https://github.com/scikit-learn/scikit-learn/issues/21755 */display: inline-block !important;position: relative;}#sk-container-id-3 div.sk-text-repr-fallback {display: none;}</style><div id=\"sk-container-id-3\" class=\"sk-top-container\"><div class=\"sk-text-repr-fallback\"><pre>LinearRegression()</pre><b>In a Jupyter environment, please rerun this cell to show the HTML representation or trust the notebook. <br />On GitHub, the HTML representation is unable to render, please try loading this page with nbviewer.org.</b></div><div class=\"sk-container\" hidden><div class=\"sk-item\"><div class=\"sk-estimator sk-toggleable\"><input class=\"sk-toggleable__control sk-hidden--visually\" id=\"sk-estimator-id-3\" type=\"checkbox\" checked><label for=\"sk-estimator-id-3\" class=\"sk-toggleable__label sk-toggleable__label-arrow\">LinearRegression</label><div class=\"sk-toggleable__content\"><pre>LinearRegression()</pre></div></div></div></div></div>"
      ],
      "text/plain": [
       "LinearRegression()"
      ]
     },
     "execution_count": 226,
     "metadata": {},
     "output_type": "execute_result"
    }
   ],
   "source": [
    "reg = LinearRegression()\n",
    "reg.fit(train[features], train['target'])"
   ]
  },
  {
   "cell_type": "code",
   "execution_count": 227,
   "id": "40b7faa1",
   "metadata": {},
   "outputs": [],
   "source": [
    "predictions1 = reg.predict(test[features])"
   ]
  },
  {
   "cell_type": "code",
   "execution_count": 228,
   "id": "a358345d",
   "metadata": {},
   "outputs": [],
   "source": [
    "error = mean_absolute_error(test[label], predictions1)"
   ]
  },
  {
   "cell_type": "code",
   "execution_count": 229,
   "id": "d59cd534",
   "metadata": {},
   "outputs": [
    {
     "data": {
      "text/plain": [
       "6.080554003571786"
      ]
     },
     "execution_count": 229,
     "metadata": {},
     "output_type": "execute_result"
    }
   ],
   "source": [
    "error"
   ]
  }
 ],
 "metadata": {
  "kernelspec": {
   "display_name": "Python 3 (ipykernel)",
   "language": "python",
   "name": "python3"
  },
  "language_info": {
   "codemirror_mode": {
    "name": "ipython",
    "version": 3
   },
   "file_extension": ".py",
   "mimetype": "text/x-python",
   "name": "python",
   "nbconvert_exporter": "python",
   "pygments_lexer": "ipython3",
   "version": "3.10.9"
  }
 },
 "nbformat": 4,
 "nbformat_minor": 5
}
